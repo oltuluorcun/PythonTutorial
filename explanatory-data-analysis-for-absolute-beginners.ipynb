{
 "cells": [
  {
   "cell_type": "markdown",
   "id": "220b30c0",
   "metadata": {
    "papermill": {
     "duration": 0.03571,
     "end_time": "2021-11-20T11:57:28.217927",
     "exception": false,
     "start_time": "2021-11-20T11:57:28.182217",
     "status": "completed"
    },
    "tags": []
   },
   "source": [
    "# Explanatory Data Analysis for Absolute Beginners\n",
    "\n",
    "This kaggle kernel covers Explanatory Data Analysis (EDA) for one of the most famous data set, Auto-MPG.\n",
    "\n",
    "For a newbie data scientist, I believe this kernel will be illuminative and again for those who starts writing in Python can make use of this kernel. \n",
    "\n",
    "Let's start with importing some packages and the data set;"
   ]
  },
  {
   "cell_type": "code",
   "execution_count": 1,
   "id": "5e8ecabb",
   "metadata": {
    "_cell_guid": "b1076dfc-b9ad-4769-8c92-a6c4dae69d19",
    "_uuid": "8f2839f25d086af736a60e9eeb907d3b93b6e0e5",
    "execution": {
     "iopub.execute_input": "2021-11-20T11:57:28.293624Z",
     "iopub.status.busy": "2021-11-20T11:57:28.292406Z",
     "iopub.status.idle": "2021-11-20T11:57:29.253920Z",
     "shell.execute_reply": "2021-11-20T11:57:29.253184Z",
     "shell.execute_reply.started": "2021-11-20T11:35:54.157674Z"
    },
    "papermill": {
     "duration": 1.000186,
     "end_time": "2021-11-20T11:57:29.254096",
     "exception": false,
     "start_time": "2021-11-20T11:57:28.253910",
     "status": "completed"
    },
    "tags": []
   },
   "outputs": [],
   "source": [
    "# Import Packages \n",
    "import numpy as np \n",
    "import pandas as pd \n",
    "import matplotlib.pyplot as plt\n",
    "import seaborn as sns\n",
    "\n",
    "# Read Data \n",
    "Auto = pd.read_csv(\"../input/autompg-dataset/auto-mpg.csv\")"
   ]
  },
  {
   "cell_type": "markdown",
   "id": "8828f523",
   "metadata": {
    "papermill": {
     "duration": 0.033705,
     "end_time": "2021-11-20T11:57:29.322356",
     "exception": false,
     "start_time": "2021-11-20T11:57:29.288651",
     "status": "completed"
    },
    "tags": []
   },
   "source": [
    "## First Impressions are Important !! \n",
    "\n",
    "To understand the characteristics of the data set or to get a first 'impression', printing a small part of the data is always suggested. Here we can use _head()_ function to print the first 5 observations of the data set by default. However, if you would like to see more or less than 5 observations, you can specify the number of observations you want to see."
   ]
  },
  {
   "cell_type": "code",
   "execution_count": 2,
   "id": "d83563a0",
   "metadata": {
    "execution": {
     "iopub.execute_input": "2021-11-20T11:57:29.394224Z",
     "iopub.status.busy": "2021-11-20T11:57:29.393553Z",
     "iopub.status.idle": "2021-11-20T11:57:29.414717Z",
     "shell.execute_reply": "2021-11-20T11:57:29.415204Z",
     "shell.execute_reply.started": "2021-11-20T11:35:55.144446Z"
    },
    "papermill": {
     "duration": 0.058766,
     "end_time": "2021-11-20T11:57:29.415375",
     "exception": false,
     "start_time": "2021-11-20T11:57:29.356609",
     "status": "completed"
    },
    "tags": []
   },
   "outputs": [
    {
     "data": {
      "text/html": [
       "<div>\n",
       "<style scoped>\n",
       "    .dataframe tbody tr th:only-of-type {\n",
       "        vertical-align: middle;\n",
       "    }\n",
       "\n",
       "    .dataframe tbody tr th {\n",
       "        vertical-align: top;\n",
       "    }\n",
       "\n",
       "    .dataframe thead th {\n",
       "        text-align: right;\n",
       "    }\n",
       "</style>\n",
       "<table border=\"1\" class=\"dataframe\">\n",
       "  <thead>\n",
       "    <tr style=\"text-align: right;\">\n",
       "      <th></th>\n",
       "      <th>mpg</th>\n",
       "      <th>cylinders</th>\n",
       "      <th>displacement</th>\n",
       "      <th>horsepower</th>\n",
       "      <th>weight</th>\n",
       "      <th>acceleration</th>\n",
       "      <th>model year</th>\n",
       "      <th>origin</th>\n",
       "      <th>car name</th>\n",
       "    </tr>\n",
       "  </thead>\n",
       "  <tbody>\n",
       "    <tr>\n",
       "      <th>0</th>\n",
       "      <td>18.0</td>\n",
       "      <td>8</td>\n",
       "      <td>307.0</td>\n",
       "      <td>130</td>\n",
       "      <td>3504</td>\n",
       "      <td>12.0</td>\n",
       "      <td>70</td>\n",
       "      <td>1</td>\n",
       "      <td>chevrolet chevelle malibu</td>\n",
       "    </tr>\n",
       "    <tr>\n",
       "      <th>1</th>\n",
       "      <td>15.0</td>\n",
       "      <td>8</td>\n",
       "      <td>350.0</td>\n",
       "      <td>165</td>\n",
       "      <td>3693</td>\n",
       "      <td>11.5</td>\n",
       "      <td>70</td>\n",
       "      <td>1</td>\n",
       "      <td>buick skylark 320</td>\n",
       "    </tr>\n",
       "    <tr>\n",
       "      <th>2</th>\n",
       "      <td>18.0</td>\n",
       "      <td>8</td>\n",
       "      <td>318.0</td>\n",
       "      <td>150</td>\n",
       "      <td>3436</td>\n",
       "      <td>11.0</td>\n",
       "      <td>70</td>\n",
       "      <td>1</td>\n",
       "      <td>plymouth satellite</td>\n",
       "    </tr>\n",
       "    <tr>\n",
       "      <th>3</th>\n",
       "      <td>16.0</td>\n",
       "      <td>8</td>\n",
       "      <td>304.0</td>\n",
       "      <td>150</td>\n",
       "      <td>3433</td>\n",
       "      <td>12.0</td>\n",
       "      <td>70</td>\n",
       "      <td>1</td>\n",
       "      <td>amc rebel sst</td>\n",
       "    </tr>\n",
       "    <tr>\n",
       "      <th>4</th>\n",
       "      <td>17.0</td>\n",
       "      <td>8</td>\n",
       "      <td>302.0</td>\n",
       "      <td>140</td>\n",
       "      <td>3449</td>\n",
       "      <td>10.5</td>\n",
       "      <td>70</td>\n",
       "      <td>1</td>\n",
       "      <td>ford torino</td>\n",
       "    </tr>\n",
       "  </tbody>\n",
       "</table>\n",
       "</div>"
      ],
      "text/plain": [
       "    mpg  cylinders  displacement horsepower  weight  acceleration  model year  \\\n",
       "0  18.0          8         307.0        130    3504          12.0          70   \n",
       "1  15.0          8         350.0        165    3693          11.5          70   \n",
       "2  18.0          8         318.0        150    3436          11.0          70   \n",
       "3  16.0          8         304.0        150    3433          12.0          70   \n",
       "4  17.0          8         302.0        140    3449          10.5          70   \n",
       "\n",
       "   origin                   car name  \n",
       "0       1  chevrolet chevelle malibu  \n",
       "1       1          buick skylark 320  \n",
       "2       1         plymouth satellite  \n",
       "3       1              amc rebel sst  \n",
       "4       1                ford torino  "
      ]
     },
     "execution_count": 2,
     "metadata": {},
     "output_type": "execute_result"
    }
   ],
   "source": [
    "Auto.head() # by default will print 5 obs. \n",
    "# Auto.head(10) # will print first 10 obs. "
   ]
  },
  {
   "cell_type": "markdown",
   "id": "b783cfb7",
   "metadata": {
    "papermill": {
     "duration": 0.035513,
     "end_time": "2021-11-20T11:57:29.487637",
     "exception": false,
     "start_time": "2021-11-20T11:57:29.452124",
     "status": "completed"
    },
    "tags": []
   },
   "source": [
    "Like _head()_ function we have also _tail()_ function which returns the last 5 observations in the data frame by default. Again, you can specify the number of observations you would like to see."
   ]
  },
  {
   "cell_type": "code",
   "execution_count": 3,
   "id": "84dc4585",
   "metadata": {
    "execution": {
     "iopub.execute_input": "2021-11-20T11:57:29.564881Z",
     "iopub.status.busy": "2021-11-20T11:57:29.564134Z",
     "iopub.status.idle": "2021-11-20T11:57:29.576056Z",
     "shell.execute_reply": "2021-11-20T11:57:29.576533Z",
     "shell.execute_reply.started": "2021-11-20T11:35:55.168535Z"
    },
    "papermill": {
     "duration": 0.053325,
     "end_time": "2021-11-20T11:57:29.576732",
     "exception": false,
     "start_time": "2021-11-20T11:57:29.523407",
     "status": "completed"
    },
    "tags": []
   },
   "outputs": [
    {
     "data": {
      "text/html": [
       "<div>\n",
       "<style scoped>\n",
       "    .dataframe tbody tr th:only-of-type {\n",
       "        vertical-align: middle;\n",
       "    }\n",
       "\n",
       "    .dataframe tbody tr th {\n",
       "        vertical-align: top;\n",
       "    }\n",
       "\n",
       "    .dataframe thead th {\n",
       "        text-align: right;\n",
       "    }\n",
       "</style>\n",
       "<table border=\"1\" class=\"dataframe\">\n",
       "  <thead>\n",
       "    <tr style=\"text-align: right;\">\n",
       "      <th></th>\n",
       "      <th>mpg</th>\n",
       "      <th>cylinders</th>\n",
       "      <th>displacement</th>\n",
       "      <th>horsepower</th>\n",
       "      <th>weight</th>\n",
       "      <th>acceleration</th>\n",
       "      <th>model year</th>\n",
       "      <th>origin</th>\n",
       "      <th>car name</th>\n",
       "    </tr>\n",
       "  </thead>\n",
       "  <tbody>\n",
       "    <tr>\n",
       "      <th>393</th>\n",
       "      <td>27.0</td>\n",
       "      <td>4</td>\n",
       "      <td>140.0</td>\n",
       "      <td>86</td>\n",
       "      <td>2790</td>\n",
       "      <td>15.6</td>\n",
       "      <td>82</td>\n",
       "      <td>1</td>\n",
       "      <td>ford mustang gl</td>\n",
       "    </tr>\n",
       "    <tr>\n",
       "      <th>394</th>\n",
       "      <td>44.0</td>\n",
       "      <td>4</td>\n",
       "      <td>97.0</td>\n",
       "      <td>52</td>\n",
       "      <td>2130</td>\n",
       "      <td>24.6</td>\n",
       "      <td>82</td>\n",
       "      <td>2</td>\n",
       "      <td>vw pickup</td>\n",
       "    </tr>\n",
       "    <tr>\n",
       "      <th>395</th>\n",
       "      <td>32.0</td>\n",
       "      <td>4</td>\n",
       "      <td>135.0</td>\n",
       "      <td>84</td>\n",
       "      <td>2295</td>\n",
       "      <td>11.6</td>\n",
       "      <td>82</td>\n",
       "      <td>1</td>\n",
       "      <td>dodge rampage</td>\n",
       "    </tr>\n",
       "    <tr>\n",
       "      <th>396</th>\n",
       "      <td>28.0</td>\n",
       "      <td>4</td>\n",
       "      <td>120.0</td>\n",
       "      <td>79</td>\n",
       "      <td>2625</td>\n",
       "      <td>18.6</td>\n",
       "      <td>82</td>\n",
       "      <td>1</td>\n",
       "      <td>ford ranger</td>\n",
       "    </tr>\n",
       "    <tr>\n",
       "      <th>397</th>\n",
       "      <td>31.0</td>\n",
       "      <td>4</td>\n",
       "      <td>119.0</td>\n",
       "      <td>82</td>\n",
       "      <td>2720</td>\n",
       "      <td>19.4</td>\n",
       "      <td>82</td>\n",
       "      <td>1</td>\n",
       "      <td>chevy s-10</td>\n",
       "    </tr>\n",
       "  </tbody>\n",
       "</table>\n",
       "</div>"
      ],
      "text/plain": [
       "      mpg  cylinders  displacement horsepower  weight  acceleration  \\\n",
       "393  27.0          4         140.0         86    2790          15.6   \n",
       "394  44.0          4          97.0         52    2130          24.6   \n",
       "395  32.0          4         135.0         84    2295          11.6   \n",
       "396  28.0          4         120.0         79    2625          18.6   \n",
       "397  31.0          4         119.0         82    2720          19.4   \n",
       "\n",
       "     model year  origin         car name  \n",
       "393          82       1  ford mustang gl  \n",
       "394          82       2        vw pickup  \n",
       "395          82       1    dodge rampage  \n",
       "396          82       1      ford ranger  \n",
       "397          82       1       chevy s-10  "
      ]
     },
     "execution_count": 3,
     "metadata": {},
     "output_type": "execute_result"
    }
   ],
   "source": [
    "Auto.tail() # by default will print last 5 obs. \n",
    "# Auto.tail(7) # will print last 7 obs."
   ]
  },
  {
   "cell_type": "markdown",
   "id": "782ee100",
   "metadata": {
    "papermill": {
     "duration": 0.035309,
     "end_time": "2021-11-20T11:57:29.647984",
     "exception": false,
     "start_time": "2021-11-20T11:57:29.612675",
     "status": "completed"
    },
    "tags": []
   },
   "source": [
    "Sometimes you may forget or misspell the names of variables you have in your data frame. For those times, using _head()_ command to see those variable names may not be a good idea. Instead you can use _columns_ functions to see the variable names in your data frame."
   ]
  },
  {
   "cell_type": "code",
   "execution_count": 4,
   "id": "5e3693b3",
   "metadata": {
    "execution": {
     "iopub.execute_input": "2021-11-20T11:57:29.725748Z",
     "iopub.status.busy": "2021-11-20T11:57:29.725055Z",
     "iopub.status.idle": "2021-11-20T11:57:29.727552Z",
     "shell.execute_reply": "2021-11-20T11:57:29.728057Z",
     "shell.execute_reply.started": "2021-11-20T11:35:55.187620Z"
    },
    "papermill": {
     "duration": 0.044163,
     "end_time": "2021-11-20T11:57:29.728218",
     "exception": false,
     "start_time": "2021-11-20T11:57:29.684055",
     "status": "completed"
    },
    "tags": []
   },
   "outputs": [
    {
     "data": {
      "text/plain": [
       "Index(['mpg', 'cylinders', 'displacement', 'horsepower', 'weight',\n",
       "       'acceleration', 'model year', 'origin', 'car name'],\n",
       "      dtype='object')"
      ]
     },
     "execution_count": 4,
     "metadata": {},
     "output_type": "execute_result"
    }
   ],
   "source": [
    "Auto.columns"
   ]
  },
  {
   "cell_type": "markdown",
   "id": "bc964114",
   "metadata": {
    "papermill": {
     "duration": 0.035095,
     "end_time": "2021-11-20T11:57:29.798835",
     "exception": false,
     "start_time": "2021-11-20T11:57:29.763740",
     "status": "completed"
    },
    "tags": []
   },
   "source": [
    "One of the most important thing to have a look at is the dimension of the data frame. You can use _shape_ function to see the number of rows (observations) and columns (variables, features) you have in your data frame. The function will return to a tuple where you will see first the number of rows and second the number of columns you have in the data frame."
   ]
  },
  {
   "cell_type": "code",
   "execution_count": 5,
   "id": "7becf10a",
   "metadata": {
    "execution": {
     "iopub.execute_input": "2021-11-20T11:57:29.875724Z",
     "iopub.status.busy": "2021-11-20T11:57:29.874859Z",
     "iopub.status.idle": "2021-11-20T11:57:29.878452Z",
     "shell.execute_reply": "2021-11-20T11:57:29.877971Z",
     "shell.execute_reply.started": "2021-11-20T11:35:55.198250Z"
    },
    "papermill": {
     "duration": 0.0442,
     "end_time": "2021-11-20T11:57:29.878604",
     "exception": false,
     "start_time": "2021-11-20T11:57:29.834404",
     "status": "completed"
    },
    "tags": []
   },
   "outputs": [
    {
     "data": {
      "text/plain": [
       "(398, 9)"
      ]
     },
     "execution_count": 5,
     "metadata": {},
     "output_type": "execute_result"
    }
   ],
   "source": [
    "Auto.shape"
   ]
  },
  {
   "cell_type": "markdown",
   "id": "a6ed5748",
   "metadata": {
    "papermill": {
     "duration": 0.035819,
     "end_time": "2021-11-20T11:57:30.008904",
     "exception": false,
     "start_time": "2021-11-20T11:57:29.973085",
     "status": "completed"
    },
    "tags": []
   },
   "source": [
    "Also, there is another function that provides strong information about the types of the variables (or features). The _info()_ function provides some sort of a table including the name of the variables, how many nonmissing values in each variables and data types of those variable. Also, it provides the dimentions of tha data frame.  "
   ]
  },
  {
   "cell_type": "code",
   "execution_count": 6,
   "id": "893be914",
   "metadata": {
    "execution": {
     "iopub.execute_input": "2021-11-20T11:57:30.086083Z",
     "iopub.status.busy": "2021-11-20T11:57:30.085101Z",
     "iopub.status.idle": "2021-11-20T11:57:30.107539Z",
     "shell.execute_reply": "2021-11-20T11:57:30.108170Z",
     "shell.execute_reply.started": "2021-11-20T11:35:55.208281Z"
    },
    "papermill": {
     "duration": 0.062229,
     "end_time": "2021-11-20T11:57:30.108358",
     "exception": false,
     "start_time": "2021-11-20T11:57:30.046129",
     "status": "completed"
    },
    "tags": []
   },
   "outputs": [
    {
     "name": "stdout",
     "output_type": "stream",
     "text": [
      "<class 'pandas.core.frame.DataFrame'>\n",
      "RangeIndex: 398 entries, 0 to 397\n",
      "Data columns (total 9 columns):\n",
      " #   Column        Non-Null Count  Dtype  \n",
      "---  ------        --------------  -----  \n",
      " 0   mpg           398 non-null    float64\n",
      " 1   cylinders     398 non-null    int64  \n",
      " 2   displacement  398 non-null    float64\n",
      " 3   horsepower    398 non-null    object \n",
      " 4   weight        398 non-null    int64  \n",
      " 5   acceleration  398 non-null    float64\n",
      " 6   model year    398 non-null    int64  \n",
      " 7   origin        398 non-null    int64  \n",
      " 8   car name      398 non-null    object \n",
      "dtypes: float64(3), int64(4), object(2)\n",
      "memory usage: 28.1+ KB\n"
     ]
    }
   ],
   "source": [
    "Auto.info()"
   ]
  },
  {
   "cell_type": "markdown",
   "id": "3ba06bac",
   "metadata": {
    "papermill": {
     "duration": 0.036606,
     "end_time": "2021-11-20T11:57:30.181618",
     "exception": false,
     "start_time": "2021-11-20T11:57:30.145012",
     "status": "completed"
    },
    "tags": []
   },
   "source": [
    "## Data Manipulation\n",
    "\n",
    "Sometimes the data that we have is not the data we need or can use directly. For example, we may have some missing values, or different type of alphabets, unmatching date types, etc. Those can be considered minor problems but solutions may be difficult. "
   ]
  },
  {
   "cell_type": "markdown",
   "id": "8e966645",
   "metadata": {
    "papermill": {
     "duration": 0.036774,
     "end_time": "2021-11-20T11:57:30.255564",
     "exception": false,
     "start_time": "2021-11-20T11:57:30.218790",
     "status": "completed"
    },
    "tags": []
   },
   "source": [
    "Now, we are able to see that 'horsepower' variable is stored as an object, now we have to be a little bit suspicious about something. The variable is most likely to have some non-numeric items.\n",
    "\n",
    "Let's have a look at all the values stored in 'horsepower' variable.\n"
   ]
  },
  {
   "cell_type": "code",
   "execution_count": 7,
   "id": "571213e9",
   "metadata": {
    "execution": {
     "iopub.execute_input": "2021-11-20T11:57:30.333692Z",
     "iopub.status.busy": "2021-11-20T11:57:30.332615Z",
     "iopub.status.idle": "2021-11-20T11:57:30.383644Z",
     "shell.execute_reply": "2021-11-20T11:57:30.383043Z",
     "shell.execute_reply.started": "2021-11-20T11:35:55.238953Z"
    },
    "papermill": {
     "duration": 0.091506,
     "end_time": "2021-11-20T11:57:30.383809",
     "exception": false,
     "start_time": "2021-11-20T11:57:30.292303",
     "status": "completed"
    },
    "tags": []
   },
   "outputs": [
    {
     "name": "stdout",
     "output_type": "stream",
     "text": [
      "130, 165, 150, 150, 140, 198, 220, 215, 225, 190, 170, 160, 150, 225, 95, 95, 97, 85, 88, 46, 87, 90, 95, 113, 90, 215, 200, 210, 193, 88, 90, 95, ?, 100, 105, 100, 88, 100, 165, 175, 153, 150, 180, 170, 175, 110, 72, 100, 88, 86, 90, 70, 76, 65, 69, 60, 70, 95, 80, 54, 90, 86, 165, 175, 150, 153, 150, 208, 155, 160, 190, 97, 150, 130, 140, 150, 112, 76, 87, 69, 86, 92, 97, 80, 88, 175, 150, 145, 137, 150, 198, 150, 158, 150, 215, 225, 175, 105, 100, 100, 88, 95, 46, 150, 167, 170, 180, 100, 88, 72, 94, 90, 85, 107, 90, 145, 230, 49, 75, 91, 112, 150, 110, 122, 180, 95, ?, 100, 100, 67, 80, 65, 75, 100, 110, 105, 140, 150, 150, 140, 150, 83, 67, 78, 52, 61, 75, 75, 75, 97, 93, 67, 95, 105, 72, 72, 170, 145, 150, 148, 110, 105, 110, 95, 110, 110, 129, 75, 83, 100, 78, 96, 71, 97, 97, 70, 90, 95, 88, 98, 115, 53, 86, 81, 92, 79, 83, 140, 150, 120, 152, 100, 105, 81, 90, 52, 60, 70, 53, 100, 78, 110, 95, 71, 70, 75, 72, 102, 150, 88, 108, 120, 180, 145, 130, 150, 68, 80, 58, 96, 70, 145, 110, 145, 130, 110, 105, 100, 98, 180, 170, 190, 149, 78, 88, 75, 89, 63, 83, 67, 78, 97, 110, 110, 48, 66, 52, 70, 60, 110, 140, 139, 105, 95, 85, 88, 100, 90, 105, 85, 110, 120, 145, 165, 139, 140, 68, 95, 97, 75, 95, 105, 85, 97, 103, 125, 115, 133, 71, 68, 115, 85, 88, 90, 110, 130, 129, 138, 135, 155, 142, 125, 150, 71, 65, 80, 80, 77, 125, 71, 90, 70, 70, 65, 69, 90, 115, 115, 90, 76, 60, 70, 65, 90, 88, 90, 90, 78, 90, 75, 92, 75, 65, 105, 65, 48, 48, 67, 67, 67, ?, 67, 62, 132, 100, 88, ?, 72, 84, 84, 92, 110, 84, 58, 64, 60, 67, 65, 62, 68, 63, 65, 65, 74, ?, 75, 75, 100, 74, 80, 76, 116, 120, 110, 105, 88, 85, 88, 88, 88, 85, 84, 90, 92, ?, 74, 68, 68, 63, 70, 88, 75, 70, 67, 67, 67, 110, 85, 92, 112, 96, 84, 90, 86, 52, 84, 79, 82, "
     ]
    }
   ],
   "source": [
    "for i in list(Auto['horsepower']):\n",
    "    print(i, end=', ')"
   ]
  },
  {
   "cell_type": "markdown",
   "id": "683a650a",
   "metadata": {
    "papermill": {
     "duration": 0.037897,
     "end_time": "2021-11-20T11:57:30.459442",
     "exception": false,
     "start_time": "2021-11-20T11:57:30.421545",
     "status": "completed"
    },
    "tags": []
   },
   "source": [
    "There are some question marks 'horsepower' variable. This could be considered some sort of a missing value issue. \n",
    "\n",
    "To convert 'horsepower' variable to numeric, we have to get rid of question marks, '?', in the variable. We can delete those rows or we can impute values where '?' are located. \n",
    "\n",
    "Let's make a median imputation for those '?', then convert 'horsepower' to integers."
   ]
  },
  {
   "cell_type": "code",
   "execution_count": 8,
   "id": "74302c80",
   "metadata": {
    "execution": {
     "iopub.execute_input": "2021-11-20T11:57:30.542569Z",
     "iopub.status.busy": "2021-11-20T11:57:30.541764Z",
     "iopub.status.idle": "2021-11-20T11:57:30.544628Z",
     "shell.execute_reply": "2021-11-20T11:57:30.544091Z",
     "shell.execute_reply.started": "2021-11-20T11:35:55.293331Z"
    },
    "papermill": {
     "duration": 0.048172,
     "end_time": "2021-11-20T11:57:30.544780",
     "exception": false,
     "start_time": "2021-11-20T11:57:30.496608",
     "status": "completed"
    },
    "tags": []
   },
   "outputs": [],
   "source": [
    "median_horsepower = Auto[\"horsepower\"][Auto[\"horsepower\"]!=\"?\"].median()\n",
    "Auto[\"horsepower\"] = Auto[\"horsepower\"].replace('?', median_horsepower).astype(int)"
   ]
  },
  {
   "cell_type": "markdown",
   "id": "233799f3",
   "metadata": {
    "papermill": {
     "duration": 0.036582,
     "end_time": "2021-11-20T11:57:30.618270",
     "exception": false,
     "start_time": "2021-11-20T11:57:30.581688",
     "status": "completed"
    },
    "tags": []
   },
   "source": [
    "We have 'cylinders' variable which represents the number of cylinders of those cars'. Althought it looks like 'cylinders' variable is a numeric variable, in fact it has to be treated like a __'categorical'__ variable. \n",
    "\n",
    "Let's convert it to a __'categorical'__ variable."
   ]
  },
  {
   "cell_type": "code",
   "execution_count": 9,
   "id": "752e4490",
   "metadata": {
    "execution": {
     "iopub.execute_input": "2021-11-20T11:57:30.699543Z",
     "iopub.status.busy": "2021-11-20T11:57:30.698530Z",
     "iopub.status.idle": "2021-11-20T11:57:30.701429Z",
     "shell.execute_reply": "2021-11-20T11:57:30.700910Z",
     "shell.execute_reply.started": "2021-11-20T11:35:55.301933Z"
    },
    "papermill": {
     "duration": 0.045953,
     "end_time": "2021-11-20T11:57:30.701600",
     "exception": false,
     "start_time": "2021-11-20T11:57:30.655647",
     "status": "completed"
    },
    "tags": []
   },
   "outputs": [],
   "source": [
    "Auto[\"cylinders\"] = pd.Series(Auto[\"cylinders\"], dtype = \"category\")"
   ]
  },
  {
   "cell_type": "markdown",
   "id": "01351b12",
   "metadata": {
    "papermill": {
     "duration": 0.036505,
     "end_time": "2021-11-20T11:57:30.775341",
     "exception": false,
     "start_time": "2021-11-20T11:57:30.738836",
     "status": "completed"
    },
    "tags": []
   },
   "source": [
    "Also, assume that we know the fact that 'origin' represents where those cars from, and it has to be considered as a __'categorical'__ variable with 3 levels, \n",
    "\n",
    "1 = American,\n",
    "\n",
    "2 = European,\n",
    "\n",
    "3 = Japanese.\n",
    "\n",
    "So, let's convert 1's with 'American', 2's with 'European' and 3's with 'Japanese'. Then save it as a __'categorical'__ variable."
   ]
  },
  {
   "cell_type": "code",
   "execution_count": 10,
   "id": "0ac3044d",
   "metadata": {
    "execution": {
     "iopub.execute_input": "2021-11-20T11:57:30.855883Z",
     "iopub.status.busy": "2021-11-20T11:57:30.855177Z",
     "iopub.status.idle": "2021-11-20T11:57:30.860505Z",
     "shell.execute_reply": "2021-11-20T11:57:30.861050Z",
     "shell.execute_reply.started": "2021-11-20T11:35:55.315707Z"
    },
    "papermill": {
     "duration": 0.049057,
     "end_time": "2021-11-20T11:57:30.861224",
     "exception": false,
     "start_time": "2021-11-20T11:57:30.812167",
     "status": "completed"
    },
    "tags": []
   },
   "outputs": [],
   "source": [
    "Auto.loc[Auto['origin'] == 1, 'origin'] = \"American\"\n",
    "Auto.loc[Auto['origin'] == 2, 'origin'] = \"European\"\n",
    "Auto.loc[Auto['origin'] == 3, 'origin'] = \"Japanese\"\n",
    "\n",
    "Auto[\"origin\"] = pd.Series(Auto[\"origin\"], dtype = \"category\")"
   ]
  },
  {
   "cell_type": "markdown",
   "id": "b428ebc2",
   "metadata": {
    "papermill": {
     "duration": 0.037337,
     "end_time": "2021-11-20T11:57:30.936225",
     "exception": false,
     "start_time": "2021-11-20T11:57:30.898888",
     "status": "completed"
    },
    "tags": []
   },
   "source": [
    "Moreover, let's assume we are not going to use 'model year' and car name variables and we want to remove them from the data frame. "
   ]
  },
  {
   "cell_type": "code",
   "execution_count": 11,
   "id": "ac4e0cf9",
   "metadata": {
    "execution": {
     "iopub.execute_input": "2021-11-20T11:57:31.015027Z",
     "iopub.status.busy": "2021-11-20T11:57:31.014323Z",
     "iopub.status.idle": "2021-11-20T11:57:31.021923Z",
     "shell.execute_reply": "2021-11-20T11:57:31.021229Z",
     "shell.execute_reply.started": "2021-11-20T11:35:55.330765Z"
    },
    "papermill": {
     "duration": 0.048827,
     "end_time": "2021-11-20T11:57:31.022066",
     "exception": false,
     "start_time": "2021-11-20T11:57:30.973239",
     "status": "completed"
    },
    "tags": []
   },
   "outputs": [],
   "source": [
    "Auto = Auto.drop(columns=[\"model year\", \"car name\"])"
   ]
  },
  {
   "cell_type": "markdown",
   "id": "3bb58543",
   "metadata": {
    "papermill": {
     "duration": 0.036758,
     "end_time": "2021-11-20T11:57:31.096917",
     "exception": false,
     "start_time": "2021-11-20T11:57:31.060159",
     "status": "completed"
    },
    "tags": []
   },
   "source": [
    "Let's see the final version of the data frame. "
   ]
  },
  {
   "cell_type": "code",
   "execution_count": 12,
   "id": "9ad98132",
   "metadata": {
    "execution": {
     "iopub.execute_input": "2021-11-20T11:57:31.185762Z",
     "iopub.status.busy": "2021-11-20T11:57:31.184967Z",
     "iopub.status.idle": "2021-11-20T11:57:31.189294Z",
     "shell.execute_reply": "2021-11-20T11:57:31.188744Z",
     "shell.execute_reply.started": "2021-11-20T11:35:55.341827Z"
    },
    "papermill": {
     "duration": 0.05521,
     "end_time": "2021-11-20T11:57:31.189436",
     "exception": false,
     "start_time": "2021-11-20T11:57:31.134226",
     "status": "completed"
    },
    "tags": []
   },
   "outputs": [
    {
     "data": {
      "text/html": [
       "<div>\n",
       "<style scoped>\n",
       "    .dataframe tbody tr th:only-of-type {\n",
       "        vertical-align: middle;\n",
       "    }\n",
       "\n",
       "    .dataframe tbody tr th {\n",
       "        vertical-align: top;\n",
       "    }\n",
       "\n",
       "    .dataframe thead th {\n",
       "        text-align: right;\n",
       "    }\n",
       "</style>\n",
       "<table border=\"1\" class=\"dataframe\">\n",
       "  <thead>\n",
       "    <tr style=\"text-align: right;\">\n",
       "      <th></th>\n",
       "      <th>mpg</th>\n",
       "      <th>cylinders</th>\n",
       "      <th>displacement</th>\n",
       "      <th>horsepower</th>\n",
       "      <th>weight</th>\n",
       "      <th>acceleration</th>\n",
       "      <th>origin</th>\n",
       "    </tr>\n",
       "  </thead>\n",
       "  <tbody>\n",
       "    <tr>\n",
       "      <th>0</th>\n",
       "      <td>18.0</td>\n",
       "      <td>8</td>\n",
       "      <td>307.0</td>\n",
       "      <td>130</td>\n",
       "      <td>3504</td>\n",
       "      <td>12.0</td>\n",
       "      <td>American</td>\n",
       "    </tr>\n",
       "    <tr>\n",
       "      <th>1</th>\n",
       "      <td>15.0</td>\n",
       "      <td>8</td>\n",
       "      <td>350.0</td>\n",
       "      <td>165</td>\n",
       "      <td>3693</td>\n",
       "      <td>11.5</td>\n",
       "      <td>American</td>\n",
       "    </tr>\n",
       "    <tr>\n",
       "      <th>2</th>\n",
       "      <td>18.0</td>\n",
       "      <td>8</td>\n",
       "      <td>318.0</td>\n",
       "      <td>150</td>\n",
       "      <td>3436</td>\n",
       "      <td>11.0</td>\n",
       "      <td>American</td>\n",
       "    </tr>\n",
       "    <tr>\n",
       "      <th>3</th>\n",
       "      <td>16.0</td>\n",
       "      <td>8</td>\n",
       "      <td>304.0</td>\n",
       "      <td>150</td>\n",
       "      <td>3433</td>\n",
       "      <td>12.0</td>\n",
       "      <td>American</td>\n",
       "    </tr>\n",
       "    <tr>\n",
       "      <th>4</th>\n",
       "      <td>17.0</td>\n",
       "      <td>8</td>\n",
       "      <td>302.0</td>\n",
       "      <td>140</td>\n",
       "      <td>3449</td>\n",
       "      <td>10.5</td>\n",
       "      <td>American</td>\n",
       "    </tr>\n",
       "  </tbody>\n",
       "</table>\n",
       "</div>"
      ],
      "text/plain": [
       "    mpg cylinders  displacement  horsepower  weight  acceleration    origin\n",
       "0  18.0         8         307.0         130    3504          12.0  American\n",
       "1  15.0         8         350.0         165    3693          11.5  American\n",
       "2  18.0         8         318.0         150    3436          11.0  American\n",
       "3  16.0         8         304.0         150    3433          12.0  American\n",
       "4  17.0         8         302.0         140    3449          10.5  American"
      ]
     },
     "execution_count": 12,
     "metadata": {},
     "output_type": "execute_result"
    }
   ],
   "source": [
    "Auto.head()"
   ]
  },
  {
   "cell_type": "markdown",
   "id": "e8f0605b",
   "metadata": {
    "papermill": {
     "duration": 0.037418,
     "end_time": "2021-11-20T11:57:31.264774",
     "exception": false,
     "start_time": "2021-11-20T11:57:31.227356",
     "status": "completed"
    },
    "tags": []
   },
   "source": [
    "## More on Impressions\n",
    "\n",
    "We have seen what we firstly had to see, now it is time to have some numerical impressions. \n",
    "\n",
    "Personally, I prefer to see the summary statistics of the data set. \n",
    "\n",
    "Quick question: What does summary statistics mean ??? \n",
    "\n",
    "Summary statistics provide statistical information about your data set. Mean, standard deviation, range, minimum-maximum points, etc. are summarize your data, give statistical insight of your data. \n",
    "\n",
    "In python, to see summary statistics easily for each one of the variables you have, all you need to use _describe_ function. This function can provide; count, mean, standard deviation, minimum value, maximum value, and quantiles of each _numeric_ variable."
   ]
  },
  {
   "cell_type": "code",
   "execution_count": 13,
   "id": "b51d28a7",
   "metadata": {
    "execution": {
     "iopub.execute_input": "2021-11-20T11:57:31.343055Z",
     "iopub.status.busy": "2021-11-20T11:57:31.342402Z",
     "iopub.status.idle": "2021-11-20T11:57:31.369422Z",
     "shell.execute_reply": "2021-11-20T11:57:31.368750Z",
     "shell.execute_reply.started": "2021-11-20T11:35:55.367023Z"
    },
    "papermill": {
     "duration": 0.067132,
     "end_time": "2021-11-20T11:57:31.369563",
     "exception": false,
     "start_time": "2021-11-20T11:57:31.302431",
     "status": "completed"
    },
    "tags": []
   },
   "outputs": [
    {
     "data": {
      "text/html": [
       "<div>\n",
       "<style scoped>\n",
       "    .dataframe tbody tr th:only-of-type {\n",
       "        vertical-align: middle;\n",
       "    }\n",
       "\n",
       "    .dataframe tbody tr th {\n",
       "        vertical-align: top;\n",
       "    }\n",
       "\n",
       "    .dataframe thead th {\n",
       "        text-align: right;\n",
       "    }\n",
       "</style>\n",
       "<table border=\"1\" class=\"dataframe\">\n",
       "  <thead>\n",
       "    <tr style=\"text-align: right;\">\n",
       "      <th></th>\n",
       "      <th>mpg</th>\n",
       "      <th>displacement</th>\n",
       "      <th>horsepower</th>\n",
       "      <th>weight</th>\n",
       "      <th>acceleration</th>\n",
       "    </tr>\n",
       "  </thead>\n",
       "  <tbody>\n",
       "    <tr>\n",
       "      <th>count</th>\n",
       "      <td>398.000000</td>\n",
       "      <td>398.000000</td>\n",
       "      <td>398.000000</td>\n",
       "      <td>398.000000</td>\n",
       "      <td>398.000000</td>\n",
       "    </tr>\n",
       "    <tr>\n",
       "      <th>mean</th>\n",
       "      <td>23.514573</td>\n",
       "      <td>193.425879</td>\n",
       "      <td>104.296482</td>\n",
       "      <td>2970.424623</td>\n",
       "      <td>15.568090</td>\n",
       "    </tr>\n",
       "    <tr>\n",
       "      <th>std</th>\n",
       "      <td>7.815984</td>\n",
       "      <td>104.269838</td>\n",
       "      <td>38.224809</td>\n",
       "      <td>846.841774</td>\n",
       "      <td>2.757689</td>\n",
       "    </tr>\n",
       "    <tr>\n",
       "      <th>min</th>\n",
       "      <td>9.000000</td>\n",
       "      <td>68.000000</td>\n",
       "      <td>46.000000</td>\n",
       "      <td>1613.000000</td>\n",
       "      <td>8.000000</td>\n",
       "    </tr>\n",
       "    <tr>\n",
       "      <th>25%</th>\n",
       "      <td>17.500000</td>\n",
       "      <td>104.250000</td>\n",
       "      <td>76.000000</td>\n",
       "      <td>2223.750000</td>\n",
       "      <td>13.825000</td>\n",
       "    </tr>\n",
       "    <tr>\n",
       "      <th>50%</th>\n",
       "      <td>23.000000</td>\n",
       "      <td>148.500000</td>\n",
       "      <td>93.000000</td>\n",
       "      <td>2803.500000</td>\n",
       "      <td>15.500000</td>\n",
       "    </tr>\n",
       "    <tr>\n",
       "      <th>75%</th>\n",
       "      <td>29.000000</td>\n",
       "      <td>262.000000</td>\n",
       "      <td>125.000000</td>\n",
       "      <td>3608.000000</td>\n",
       "      <td>17.175000</td>\n",
       "    </tr>\n",
       "    <tr>\n",
       "      <th>max</th>\n",
       "      <td>46.600000</td>\n",
       "      <td>455.000000</td>\n",
       "      <td>230.000000</td>\n",
       "      <td>5140.000000</td>\n",
       "      <td>24.800000</td>\n",
       "    </tr>\n",
       "  </tbody>\n",
       "</table>\n",
       "</div>"
      ],
      "text/plain": [
       "              mpg  displacement  horsepower       weight  acceleration\n",
       "count  398.000000    398.000000  398.000000   398.000000    398.000000\n",
       "mean    23.514573    193.425879  104.296482  2970.424623     15.568090\n",
       "std      7.815984    104.269838   38.224809   846.841774      2.757689\n",
       "min      9.000000     68.000000   46.000000  1613.000000      8.000000\n",
       "25%     17.500000    104.250000   76.000000  2223.750000     13.825000\n",
       "50%     23.000000    148.500000   93.000000  2803.500000     15.500000\n",
       "75%     29.000000    262.000000  125.000000  3608.000000     17.175000\n",
       "max     46.600000    455.000000  230.000000  5140.000000     24.800000"
      ]
     },
     "execution_count": 13,
     "metadata": {},
     "output_type": "execute_result"
    }
   ],
   "source": [
    "Auto.describe()"
   ]
  },
  {
   "cell_type": "markdown",
   "id": "169d2951",
   "metadata": {
    "papermill": {
     "duration": 0.038177,
     "end_time": "2021-11-20T11:57:31.445727",
     "exception": false,
     "start_time": "2021-11-20T11:57:31.407550",
     "status": "completed"
    },
    "tags": []
   },
   "source": [
    "After seeing summary statistics for each variables seperately, the correlations of the variables is what we may wish to see before going into detail. To achieve a correlation matrix, all you need to use _corr()_ function. This function will return a matrix where you can see correlation values between 2 variables. "
   ]
  },
  {
   "cell_type": "code",
   "execution_count": 14,
   "id": "1c1969f3",
   "metadata": {
    "execution": {
     "iopub.execute_input": "2021-11-20T11:57:31.529233Z",
     "iopub.status.busy": "2021-11-20T11:57:31.528427Z",
     "iopub.status.idle": "2021-11-20T11:57:31.538228Z",
     "shell.execute_reply": "2021-11-20T11:57:31.538726Z",
     "shell.execute_reply.started": "2021-11-20T11:35:55.397689Z"
    },
    "papermill": {
     "duration": 0.054195,
     "end_time": "2021-11-20T11:57:31.538905",
     "exception": false,
     "start_time": "2021-11-20T11:57:31.484710",
     "status": "completed"
    },
    "tags": []
   },
   "outputs": [
    {
     "data": {
      "text/html": [
       "<div>\n",
       "<style scoped>\n",
       "    .dataframe tbody tr th:only-of-type {\n",
       "        vertical-align: middle;\n",
       "    }\n",
       "\n",
       "    .dataframe tbody tr th {\n",
       "        vertical-align: top;\n",
       "    }\n",
       "\n",
       "    .dataframe thead th {\n",
       "        text-align: right;\n",
       "    }\n",
       "</style>\n",
       "<table border=\"1\" class=\"dataframe\">\n",
       "  <thead>\n",
       "    <tr style=\"text-align: right;\">\n",
       "      <th></th>\n",
       "      <th>mpg</th>\n",
       "      <th>displacement</th>\n",
       "      <th>horsepower</th>\n",
       "      <th>weight</th>\n",
       "      <th>acceleration</th>\n",
       "    </tr>\n",
       "  </thead>\n",
       "  <tbody>\n",
       "    <tr>\n",
       "      <th>mpg</th>\n",
       "      <td>1.000000</td>\n",
       "      <td>-0.804203</td>\n",
       "      <td>-0.773522</td>\n",
       "      <td>-0.831741</td>\n",
       "      <td>0.420289</td>\n",
       "    </tr>\n",
       "    <tr>\n",
       "      <th>displacement</th>\n",
       "      <td>-0.804203</td>\n",
       "      <td>1.000000</td>\n",
       "      <td>0.895849</td>\n",
       "      <td>0.932824</td>\n",
       "      <td>-0.543684</td>\n",
       "    </tr>\n",
       "    <tr>\n",
       "      <th>horsepower</th>\n",
       "      <td>-0.773522</td>\n",
       "      <td>0.895849</td>\n",
       "      <td>1.000000</td>\n",
       "      <td>0.862502</td>\n",
       "      <td>-0.686676</td>\n",
       "    </tr>\n",
       "    <tr>\n",
       "      <th>weight</th>\n",
       "      <td>-0.831741</td>\n",
       "      <td>0.932824</td>\n",
       "      <td>0.862502</td>\n",
       "      <td>1.000000</td>\n",
       "      <td>-0.417457</td>\n",
       "    </tr>\n",
       "    <tr>\n",
       "      <th>acceleration</th>\n",
       "      <td>0.420289</td>\n",
       "      <td>-0.543684</td>\n",
       "      <td>-0.686676</td>\n",
       "      <td>-0.417457</td>\n",
       "      <td>1.000000</td>\n",
       "    </tr>\n",
       "  </tbody>\n",
       "</table>\n",
       "</div>"
      ],
      "text/plain": [
       "                   mpg  displacement  horsepower    weight  acceleration\n",
       "mpg           1.000000     -0.804203   -0.773522 -0.831741      0.420289\n",
       "displacement -0.804203      1.000000    0.895849  0.932824     -0.543684\n",
       "horsepower   -0.773522      0.895849    1.000000  0.862502     -0.686676\n",
       "weight       -0.831741      0.932824    0.862502  1.000000     -0.417457\n",
       "acceleration  0.420289     -0.543684   -0.686676 -0.417457      1.000000"
      ]
     },
     "execution_count": 14,
     "metadata": {},
     "output_type": "execute_result"
    }
   ],
   "source": [
    "Auto.corr()"
   ]
  },
  {
   "cell_type": "markdown",
   "id": "7c7df3d5",
   "metadata": {
    "papermill": {
     "duration": 0.038504,
     "end_time": "2021-11-20T11:57:31.616257",
     "exception": false,
     "start_time": "2021-11-20T11:57:31.577753",
     "status": "completed"
    },
    "tags": []
   },
   "source": [
    "## Sub-sampling & Filtering\n",
    "\n",
    "Sometimes data sets can be too big to handle, and sometimes not all the information in the data is required for a specific task. Instead of digging the whole data set for a specific task you can creates sub-samples from that 'big' data with some basic queries. \n",
    "\n",
    "Now, first create a sub-sample from Auto data set, consisting only European cars. "
   ]
  },
  {
   "cell_type": "code",
   "execution_count": 15,
   "id": "8b29b79b",
   "metadata": {
    "execution": {
     "iopub.execute_input": "2021-11-20T11:57:31.696923Z",
     "iopub.status.busy": "2021-11-20T11:57:31.696193Z",
     "iopub.status.idle": "2021-11-20T11:57:31.709649Z",
     "shell.execute_reply": "2021-11-20T11:57:31.710161Z",
     "shell.execute_reply.started": "2021-11-20T11:35:55.413843Z"
    },
    "papermill": {
     "duration": 0.055698,
     "end_time": "2021-11-20T11:57:31.710340",
     "exception": false,
     "start_time": "2021-11-20T11:57:31.654642",
     "status": "completed"
    },
    "tags": []
   },
   "outputs": [
    {
     "data": {
      "text/html": [
       "<div>\n",
       "<style scoped>\n",
       "    .dataframe tbody tr th:only-of-type {\n",
       "        vertical-align: middle;\n",
       "    }\n",
       "\n",
       "    .dataframe tbody tr th {\n",
       "        vertical-align: top;\n",
       "    }\n",
       "\n",
       "    .dataframe thead th {\n",
       "        text-align: right;\n",
       "    }\n",
       "</style>\n",
       "<table border=\"1\" class=\"dataframe\">\n",
       "  <thead>\n",
       "    <tr style=\"text-align: right;\">\n",
       "      <th></th>\n",
       "      <th>mpg</th>\n",
       "      <th>cylinders</th>\n",
       "      <th>displacement</th>\n",
       "      <th>horsepower</th>\n",
       "      <th>weight</th>\n",
       "      <th>acceleration</th>\n",
       "      <th>origin</th>\n",
       "    </tr>\n",
       "  </thead>\n",
       "  <tbody>\n",
       "    <tr>\n",
       "      <th>19</th>\n",
       "      <td>26.0</td>\n",
       "      <td>4</td>\n",
       "      <td>97.0</td>\n",
       "      <td>46</td>\n",
       "      <td>1835</td>\n",
       "      <td>20.5</td>\n",
       "      <td>European</td>\n",
       "    </tr>\n",
       "    <tr>\n",
       "      <th>20</th>\n",
       "      <td>25.0</td>\n",
       "      <td>4</td>\n",
       "      <td>110.0</td>\n",
       "      <td>87</td>\n",
       "      <td>2672</td>\n",
       "      <td>17.5</td>\n",
       "      <td>European</td>\n",
       "    </tr>\n",
       "    <tr>\n",
       "      <th>21</th>\n",
       "      <td>24.0</td>\n",
       "      <td>4</td>\n",
       "      <td>107.0</td>\n",
       "      <td>90</td>\n",
       "      <td>2430</td>\n",
       "      <td>14.5</td>\n",
       "      <td>European</td>\n",
       "    </tr>\n",
       "    <tr>\n",
       "      <th>22</th>\n",
       "      <td>25.0</td>\n",
       "      <td>4</td>\n",
       "      <td>104.0</td>\n",
       "      <td>95</td>\n",
       "      <td>2375</td>\n",
       "      <td>17.5</td>\n",
       "      <td>European</td>\n",
       "    </tr>\n",
       "    <tr>\n",
       "      <th>23</th>\n",
       "      <td>26.0</td>\n",
       "      <td>4</td>\n",
       "      <td>121.0</td>\n",
       "      <td>113</td>\n",
       "      <td>2234</td>\n",
       "      <td>12.5</td>\n",
       "      <td>European</td>\n",
       "    </tr>\n",
       "  </tbody>\n",
       "</table>\n",
       "</div>"
      ],
      "text/plain": [
       "     mpg cylinders  displacement  horsepower  weight  acceleration    origin\n",
       "19  26.0         4          97.0          46    1835          20.5  European\n",
       "20  25.0         4         110.0          87    2672          17.5  European\n",
       "21  24.0         4         107.0          90    2430          14.5  European\n",
       "22  25.0         4         104.0          95    2375          17.5  European\n",
       "23  26.0         4         121.0         113    2234          12.5  European"
      ]
     },
     "execution_count": 15,
     "metadata": {},
     "output_type": "execute_result"
    }
   ],
   "source": [
    "Auto_European = Auto[Auto[\"origin\"] == \"European\"]\n",
    "Auto_European.head()"
   ]
  },
  {
   "cell_type": "markdown",
   "id": "35948e6f",
   "metadata": {
    "papermill": {
     "duration": 0.038618,
     "end_time": "2021-11-20T11:57:31.789027",
     "exception": false,
     "start_time": "2021-11-20T11:57:31.750409",
     "status": "completed"
    },
    "tags": []
   },
   "source": [
    "Now, lets filter down by horsepower. Assume that you are only interested in cars more than 110 HP. "
   ]
  },
  {
   "cell_type": "code",
   "execution_count": 16,
   "id": "31b64185",
   "metadata": {
    "execution": {
     "iopub.execute_input": "2021-11-20T11:57:31.878303Z",
     "iopub.status.busy": "2021-11-20T11:57:31.877560Z",
     "iopub.status.idle": "2021-11-20T11:57:31.885217Z",
     "shell.execute_reply": "2021-11-20T11:57:31.885777Z",
     "shell.execute_reply.started": "2021-11-20T11:35:55.433440Z"
    },
    "papermill": {
     "duration": 0.057889,
     "end_time": "2021-11-20T11:57:31.885947",
     "exception": false,
     "start_time": "2021-11-20T11:57:31.828058",
     "status": "completed"
    },
    "tags": []
   },
   "outputs": [
    {
     "data": {
      "text/html": [
       "<div>\n",
       "<style scoped>\n",
       "    .dataframe tbody tr th:only-of-type {\n",
       "        vertical-align: middle;\n",
       "    }\n",
       "\n",
       "    .dataframe tbody tr th {\n",
       "        vertical-align: top;\n",
       "    }\n",
       "\n",
       "    .dataframe thead th {\n",
       "        text-align: right;\n",
       "    }\n",
       "</style>\n",
       "<table border=\"1\" class=\"dataframe\">\n",
       "  <thead>\n",
       "    <tr style=\"text-align: right;\">\n",
       "      <th></th>\n",
       "      <th>mpg</th>\n",
       "      <th>cylinders</th>\n",
       "      <th>displacement</th>\n",
       "      <th>horsepower</th>\n",
       "      <th>weight</th>\n",
       "      <th>acceleration</th>\n",
       "      <th>origin</th>\n",
       "    </tr>\n",
       "  </thead>\n",
       "  <tbody>\n",
       "    <tr>\n",
       "      <th>0</th>\n",
       "      <td>18.0</td>\n",
       "      <td>8</td>\n",
       "      <td>307.0</td>\n",
       "      <td>130</td>\n",
       "      <td>3504</td>\n",
       "      <td>12.0</td>\n",
       "      <td>American</td>\n",
       "    </tr>\n",
       "    <tr>\n",
       "      <th>1</th>\n",
       "      <td>15.0</td>\n",
       "      <td>8</td>\n",
       "      <td>350.0</td>\n",
       "      <td>165</td>\n",
       "      <td>3693</td>\n",
       "      <td>11.5</td>\n",
       "      <td>American</td>\n",
       "    </tr>\n",
       "    <tr>\n",
       "      <th>2</th>\n",
       "      <td>18.0</td>\n",
       "      <td>8</td>\n",
       "      <td>318.0</td>\n",
       "      <td>150</td>\n",
       "      <td>3436</td>\n",
       "      <td>11.0</td>\n",
       "      <td>American</td>\n",
       "    </tr>\n",
       "    <tr>\n",
       "      <th>3</th>\n",
       "      <td>16.0</td>\n",
       "      <td>8</td>\n",
       "      <td>304.0</td>\n",
       "      <td>150</td>\n",
       "      <td>3433</td>\n",
       "      <td>12.0</td>\n",
       "      <td>American</td>\n",
       "    </tr>\n",
       "    <tr>\n",
       "      <th>4</th>\n",
       "      <td>17.0</td>\n",
       "      <td>8</td>\n",
       "      <td>302.0</td>\n",
       "      <td>140</td>\n",
       "      <td>3449</td>\n",
       "      <td>10.5</td>\n",
       "      <td>American</td>\n",
       "    </tr>\n",
       "  </tbody>\n",
       "</table>\n",
       "</div>"
      ],
      "text/plain": [
       "    mpg cylinders  displacement  horsepower  weight  acceleration    origin\n",
       "0  18.0         8         307.0         130    3504          12.0  American\n",
       "1  15.0         8         350.0         165    3693          11.5  American\n",
       "2  18.0         8         318.0         150    3436          11.0  American\n",
       "3  16.0         8         304.0         150    3433          12.0  American\n",
       "4  17.0         8         302.0         140    3449          10.5  American"
      ]
     },
     "execution_count": 16,
     "metadata": {},
     "output_type": "execute_result"
    }
   ],
   "source": [
    "Auto_Power = Auto[Auto[\"horsepower\"] > 110]\n",
    "Auto_Power.head()"
   ]
  },
  {
   "cell_type": "markdown",
   "id": "c143e293",
   "metadata": {
    "papermill": {
     "duration": 0.039559,
     "end_time": "2021-11-20T11:57:31.965299",
     "exception": false,
     "start_time": "2021-11-20T11:57:31.925740",
     "status": "completed"
    },
    "tags": []
   },
   "source": [
    "Now, add another condition, \n",
    "\n",
    "Create another sub-sample of cars satisfying following conditions HP > 100 and mpg > 20"
   ]
  },
  {
   "cell_type": "code",
   "execution_count": 17,
   "id": "7e6f2c27",
   "metadata": {
    "execution": {
     "iopub.execute_input": "2021-11-20T11:57:32.062261Z",
     "iopub.status.busy": "2021-11-20T11:57:32.049249Z",
     "iopub.status.idle": "2021-11-20T11:57:32.065978Z",
     "shell.execute_reply": "2021-11-20T11:57:32.065322Z",
     "shell.execute_reply.started": "2021-11-20T11:35:55.455373Z"
    },
    "papermill": {
     "duration": 0.060987,
     "end_time": "2021-11-20T11:57:32.066117",
     "exception": false,
     "start_time": "2021-11-20T11:57:32.005130",
     "status": "completed"
    },
    "tags": []
   },
   "outputs": [
    {
     "data": {
      "text/html": [
       "<div>\n",
       "<style scoped>\n",
       "    .dataframe tbody tr th:only-of-type {\n",
       "        vertical-align: middle;\n",
       "    }\n",
       "\n",
       "    .dataframe tbody tr th {\n",
       "        vertical-align: top;\n",
       "    }\n",
       "\n",
       "    .dataframe thead th {\n",
       "        text-align: right;\n",
       "    }\n",
       "</style>\n",
       "<table border=\"1\" class=\"dataframe\">\n",
       "  <thead>\n",
       "    <tr style=\"text-align: right;\">\n",
       "      <th></th>\n",
       "      <th>mpg</th>\n",
       "      <th>cylinders</th>\n",
       "      <th>displacement</th>\n",
       "      <th>horsepower</th>\n",
       "      <th>weight</th>\n",
       "      <th>acceleration</th>\n",
       "      <th>origin</th>\n",
       "    </tr>\n",
       "  </thead>\n",
       "  <tbody>\n",
       "    <tr>\n",
       "      <th>23</th>\n",
       "      <td>26.0</td>\n",
       "      <td>4</td>\n",
       "      <td>121.0</td>\n",
       "      <td>113</td>\n",
       "      <td>2234</td>\n",
       "      <td>12.5</td>\n",
       "      <td>European</td>\n",
       "    </tr>\n",
       "    <tr>\n",
       "      <th>180</th>\n",
       "      <td>25.0</td>\n",
       "      <td>4</td>\n",
       "      <td>121.0</td>\n",
       "      <td>115</td>\n",
       "      <td>2671</td>\n",
       "      <td>13.5</td>\n",
       "      <td>European</td>\n",
       "    </tr>\n",
       "    <tr>\n",
       "      <th>251</th>\n",
       "      <td>20.2</td>\n",
       "      <td>8</td>\n",
       "      <td>302.0</td>\n",
       "      <td>139</td>\n",
       "      <td>3570</td>\n",
       "      <td>12.8</td>\n",
       "      <td>American</td>\n",
       "    </tr>\n",
       "    <tr>\n",
       "      <th>276</th>\n",
       "      <td>21.6</td>\n",
       "      <td>4</td>\n",
       "      <td>121.0</td>\n",
       "      <td>115</td>\n",
       "      <td>2795</td>\n",
       "      <td>15.7</td>\n",
       "      <td>European</td>\n",
       "    </tr>\n",
       "    <tr>\n",
       "      <th>280</th>\n",
       "      <td>21.5</td>\n",
       "      <td>6</td>\n",
       "      <td>231.0</td>\n",
       "      <td>115</td>\n",
       "      <td>3245</td>\n",
       "      <td>15.4</td>\n",
       "      <td>American</td>\n",
       "    </tr>\n",
       "  </tbody>\n",
       "</table>\n",
       "</div>"
      ],
      "text/plain": [
       "      mpg cylinders  displacement  horsepower  weight  acceleration    origin\n",
       "23   26.0         4         121.0         113    2234          12.5  European\n",
       "180  25.0         4         121.0         115    2671          13.5  European\n",
       "251  20.2         8         302.0         139    3570          12.8  American\n",
       "276  21.6         4         121.0         115    2795          15.7  European\n",
       "280  21.5         6         231.0         115    3245          15.4  American"
      ]
     },
     "execution_count": 17,
     "metadata": {},
     "output_type": "execute_result"
    }
   ],
   "source": [
    "Auto_Power_Mpg = Auto[(Auto[\"horsepower\"] > 110) & (Auto[\"mpg\"] > 20)]\n",
    "Auto_Power_Mpg.head()"
   ]
  },
  {
   "cell_type": "markdown",
   "id": "634c7efa",
   "metadata": {
    "papermill": {
     "duration": 0.039677,
     "end_time": "2021-11-20T11:57:32.146564",
     "exception": false,
     "start_time": "2021-11-20T11:57:32.106887",
     "status": "completed"
    },
    "tags": []
   },
   "source": [
    "Now, store only mpg, cylinders, horsepower variables in a new subset."
   ]
  },
  {
   "cell_type": "code",
   "execution_count": 18,
   "id": "3b8cd0c7",
   "metadata": {
    "execution": {
     "iopub.execute_input": "2021-11-20T11:57:32.238139Z",
     "iopub.status.busy": "2021-11-20T11:57:32.237371Z",
     "iopub.status.idle": "2021-11-20T11:57:32.240093Z",
     "shell.execute_reply": "2021-11-20T11:57:32.240599Z",
     "shell.execute_reply.started": "2021-11-20T11:35:55.475116Z"
    },
    "papermill": {
     "duration": 0.054114,
     "end_time": "2021-11-20T11:57:32.240766",
     "exception": false,
     "start_time": "2021-11-20T11:57:32.186652",
     "status": "completed"
    },
    "tags": []
   },
   "outputs": [
    {
     "data": {
      "text/html": [
       "<div>\n",
       "<style scoped>\n",
       "    .dataframe tbody tr th:only-of-type {\n",
       "        vertical-align: middle;\n",
       "    }\n",
       "\n",
       "    .dataframe tbody tr th {\n",
       "        vertical-align: top;\n",
       "    }\n",
       "\n",
       "    .dataframe thead th {\n",
       "        text-align: right;\n",
       "    }\n",
       "</style>\n",
       "<table border=\"1\" class=\"dataframe\">\n",
       "  <thead>\n",
       "    <tr style=\"text-align: right;\">\n",
       "      <th></th>\n",
       "      <th>mpg</th>\n",
       "      <th>horsepower</th>\n",
       "      <th>cylinders</th>\n",
       "    </tr>\n",
       "  </thead>\n",
       "  <tbody>\n",
       "    <tr>\n",
       "      <th>0</th>\n",
       "      <td>18.0</td>\n",
       "      <td>130</td>\n",
       "      <td>8</td>\n",
       "    </tr>\n",
       "    <tr>\n",
       "      <th>1</th>\n",
       "      <td>15.0</td>\n",
       "      <td>165</td>\n",
       "      <td>8</td>\n",
       "    </tr>\n",
       "    <tr>\n",
       "      <th>2</th>\n",
       "      <td>18.0</td>\n",
       "      <td>150</td>\n",
       "      <td>8</td>\n",
       "    </tr>\n",
       "    <tr>\n",
       "      <th>3</th>\n",
       "      <td>16.0</td>\n",
       "      <td>150</td>\n",
       "      <td>8</td>\n",
       "    </tr>\n",
       "    <tr>\n",
       "      <th>4</th>\n",
       "      <td>17.0</td>\n",
       "      <td>140</td>\n",
       "      <td>8</td>\n",
       "    </tr>\n",
       "  </tbody>\n",
       "</table>\n",
       "</div>"
      ],
      "text/plain": [
       "    mpg  horsepower cylinders\n",
       "0  18.0         130         8\n",
       "1  15.0         165         8\n",
       "2  18.0         150         8\n",
       "3  16.0         150         8\n",
       "4  17.0         140         8"
      ]
     },
     "execution_count": 18,
     "metadata": {},
     "output_type": "execute_result"
    }
   ],
   "source": [
    "new_subset = Auto[{\"mpg\",\"cylinders\",\"horsepower\"}]\n",
    "new_subset.head()"
   ]
  },
  {
   "cell_type": "markdown",
   "id": "096ed323",
   "metadata": {
    "papermill": {
     "duration": 0.040131,
     "end_time": "2021-11-20T11:57:32.321304",
     "exception": false,
     "start_time": "2021-11-20T11:57:32.281173",
     "status": "completed"
    },
    "tags": []
   },
   "source": [
    "## Creating Visuals\n",
    "\n",
    "We have seen that numbers can be very informative however, having 'a lot' of numbers may be confusing or even boring for most of the people. Rather than 'playing' with numbers too much, we can get some help from cool visuals that gives strong information of the whole data set or just of a single variable. "
   ]
  },
  {
   "cell_type": "markdown",
   "id": "0dd7bbac",
   "metadata": {
    "papermill": {
     "duration": 0.040536,
     "end_time": "2021-11-20T11:57:32.402221",
     "exception": false,
     "start_time": "2021-11-20T11:57:32.361685",
     "status": "completed"
    },
    "tags": []
   },
   "source": [
    "### Correlation Plot (Heat Map)\n",
    "\n",
    "Let's recall that we created a correlation matrix earlier to see the correalation values between numeric variables. Now, we can create a 'plot' that show again correalation values between numeric variables in our data set."
   ]
  },
  {
   "cell_type": "code",
   "execution_count": 19,
   "id": "95792785",
   "metadata": {
    "execution": {
     "iopub.execute_input": "2021-11-20T11:57:32.488746Z",
     "iopub.status.busy": "2021-11-20T11:57:32.487999Z",
     "iopub.status.idle": "2021-11-20T11:57:32.972435Z",
     "shell.execute_reply": "2021-11-20T11:57:32.973109Z",
     "shell.execute_reply.started": "2021-11-20T11:35:55.493280Z"
    },
    "papermill": {
     "duration": 0.529755,
     "end_time": "2021-11-20T11:57:32.973281",
     "exception": false,
     "start_time": "2021-11-20T11:57:32.443526",
     "status": "completed"
    },
    "tags": []
   },
   "outputs": [
    {
     "data": {
      "image/png": "[encoded data removed]",
      "text/plain": [
       "<Figure size 864x720 with 2 Axes>"
      ]
     },
     "metadata": {
      "needs_background": "light"
     },
     "output_type": "display_data"
    }
   ],
   "source": [
    "plt.figure(figsize=(12,10))\n",
    "cor = Auto.corr()\n",
    "sns.heatmap(cor, annot=True)\n",
    "plt.show()"
   ]
  },
  {
   "cell_type": "markdown",
   "id": "31b7be18",
   "metadata": {
    "papermill": {
     "duration": 0.042162,
     "end_time": "2021-11-20T11:57:33.057520",
     "exception": false,
     "start_time": "2021-11-20T11:57:33.015358",
     "status": "completed"
    },
    "tags": []
   },
   "source": [
    "### Scatter Plot\n",
    "\n",
    "From the Correlation Plot above, we are able to see that there is a strong negative relationship between weight and mpg. That means, the more the car weighs, the more gas it consumes. \n",
    "\n",
    "Let's obtain a scatter plot to see the relationship between weight and mpg."
   ]
  },
  {
   "cell_type": "code",
   "execution_count": 20,
   "id": "6083d502",
   "metadata": {
    "execution": {
     "iopub.execute_input": "2021-11-20T11:57:33.144750Z",
     "iopub.status.busy": "2021-11-20T11:57:33.144002Z",
     "iopub.status.idle": "2021-11-20T11:57:33.388471Z",
     "shell.execute_reply": "2021-11-20T11:57:33.388994Z",
     "shell.execute_reply.started": "2021-11-20T11:35:55.987167Z"
    },
    "papermill": {
     "duration": 0.289729,
     "end_time": "2021-11-20T11:57:33.389168",
     "exception": false,
     "start_time": "2021-11-20T11:57:33.099439",
     "status": "completed"
    },
    "tags": []
   },
   "outputs": [
    {
     "data": {
      "image/png": "[encoded data removed]",
      "text/plain": [
       "<Figure size 432x288 with 1 Axes>"
      ]
     },
     "metadata": {
      "needs_background": "light"
     },
     "output_type": "display_data"
    }
   ],
   "source": [
    "Auto.plot(kind = \"scatter\", x = \"weight\", y = \"mpg\", color = \"Red\")\n",
    "plt.show()"
   ]
  },
  {
   "cell_type": "markdown",
   "id": "0e65d571",
   "metadata": {
    "papermill": {
     "duration": 0.043219,
     "end_time": "2021-11-20T11:57:33.475340",
     "exception": false,
     "start_time": "2021-11-20T11:57:33.432121",
     "status": "completed"
    },
    "tags": []
   },
   "source": [
    "This scatter plot confirms that there is a strong negative relationship between weight and mpg."
   ]
  },
  {
   "cell_type": "markdown",
   "id": "900a14e4",
   "metadata": {
    "papermill": {
     "duration": 0.042544,
     "end_time": "2021-11-20T11:57:33.561311",
     "exception": false,
     "start_time": "2021-11-20T11:57:33.518767",
     "status": "completed"
    },
    "tags": []
   },
   "source": [
    "You can add another layer, or 3rd dimension by coloring the points in the scatter plot. Let's now assume that you want to add origin factor to the previous scatter plot. "
   ]
  },
  {
   "cell_type": "code",
   "execution_count": 21,
   "id": "c6525cdc",
   "metadata": {
    "execution": {
     "iopub.execute_input": "2021-11-20T11:57:33.650052Z",
     "iopub.status.busy": "2021-11-20T11:57:33.649401Z",
     "iopub.status.idle": "2021-11-20T11:57:33.873459Z",
     "shell.execute_reply": "2021-11-20T11:57:33.873952Z",
     "shell.execute_reply.started": "2021-11-20T11:35:56.233437Z"
    },
    "papermill": {
     "duration": 0.270079,
     "end_time": "2021-11-20T11:57:33.874130",
     "exception": false,
     "start_time": "2021-11-20T11:57:33.604051",
     "status": "completed"
    },
    "tags": []
   },
   "outputs": [
    {
     "data": {
      "image/png": "[encoded data removed]",
      "text/plain": [
       "<Figure size 432x288 with 1 Axes>"
      ]
     },
     "metadata": {
      "needs_background": "light"
     },
     "output_type": "display_data"
    }
   ],
   "source": [
    "colors = {'American':'Red', 'European':'Green', 'Japanese':'Blue'}\n",
    "Auto.plot(kind = \"scatter\", x = \"weight\", y = \"mpg\", \n",
    "          color = Auto['origin'].map(colors))\n",
    "plt.show()"
   ]
  },
  {
   "cell_type": "markdown",
   "id": "e8267e4f",
   "metadata": {
    "papermill": {
     "duration": 0.043451,
     "end_time": "2021-11-20T11:57:33.961481",
     "exception": false,
     "start_time": "2021-11-20T11:57:33.918030",
     "status": "completed"
    },
    "tags": []
   },
   "source": [
    "### Histogram\n",
    "\n",
    "Histograms are used to see the distribution numerical data. Here let's create a primitive example for mpg variable. Default version divides the data to 10 bins. "
   ]
  },
  {
   "cell_type": "code",
   "execution_count": 22,
   "id": "fcf26b46",
   "metadata": {
    "execution": {
     "iopub.execute_input": "2021-11-20T11:57:34.054470Z",
     "iopub.status.busy": "2021-11-20T11:57:34.053789Z",
     "iopub.status.idle": "2021-11-20T11:57:34.297538Z",
     "shell.execute_reply": "2021-11-20T11:57:34.298069Z",
     "shell.execute_reply.started": "2021-11-20T11:35:56.463513Z"
    },
    "papermill": {
     "duration": 0.292071,
     "end_time": "2021-11-20T11:57:34.298253",
     "exception": false,
     "start_time": "2021-11-20T11:57:34.006182",
     "status": "completed"
    },
    "tags": []
   },
   "outputs": [
    {
     "data": {
      "image/png": "[encoded data removed]",
      "text/plain": [
       "<Figure size 432x288 with 1 Axes>"
      ]
     },
     "metadata": {
      "needs_background": "light"
     },
     "output_type": "display_data"
    }
   ],
   "source": [
    "Auto.plot(kind = \"hist\", y = \"mpg\", color = \"Gold\")\n",
    "plt.show()"
   ]
  },
  {
   "cell_type": "markdown",
   "id": "2d60991b",
   "metadata": {
    "papermill": {
     "duration": 0.044053,
     "end_time": "2021-11-20T11:57:34.387032",
     "exception": false,
     "start_time": "2021-11-20T11:57:34.342979",
     "status": "completed"
    },
    "tags": []
   },
   "source": [
    "However, sometimes increasing or decreasing the number of bins in a histogram may provide valuable information. There is a 'bins' option inside the function. Now let's increase the number of bins to 25."
   ]
  },
  {
   "cell_type": "code",
   "execution_count": 23,
   "id": "02abb1de",
   "metadata": {
    "execution": {
     "iopub.execute_input": "2021-11-20T11:57:34.479984Z",
     "iopub.status.busy": "2021-11-20T11:57:34.479244Z",
     "iopub.status.idle": "2021-11-20T11:57:34.772398Z",
     "shell.execute_reply": "2021-11-20T11:57:34.772948Z",
     "shell.execute_reply.started": "2021-11-20T11:35:56.717953Z"
    },
    "papermill": {
     "duration": 0.341586,
     "end_time": "2021-11-20T11:57:34.773154",
     "exception": false,
     "start_time": "2021-11-20T11:57:34.431568",
     "status": "completed"
    },
    "tags": []
   },
   "outputs": [
    {
     "data": {
      "image/png": "[encoded data removed]",
      "text/plain": [
       "<Figure size 432x288 with 1 Axes>"
      ]
     },
     "metadata": {
      "needs_background": "light"
     },
     "output_type": "display_data"
    }
   ],
   "source": [
    "Auto.plot(kind = \"hist\", y = \"mpg\",bins = 30, color = \"Gold\")\n",
    "plt.show()"
   ]
  },
  {
   "cell_type": "markdown",
   "id": "01de0721",
   "metadata": {
    "papermill": {
     "duration": 0.044914,
     "end_time": "2021-11-20T11:57:34.863684",
     "exception": false,
     "start_time": "2021-11-20T11:57:34.818770",
     "status": "completed"
    },
    "tags": []
   },
   "source": [
    "### Box Plot\n",
    "\n",
    "Boxplots provide information about the concentration, shape, distribution, range of a continuous variable. Let's obtain a boxplot for Horsepower in Auto data set."
   ]
  },
  {
   "cell_type": "code",
   "execution_count": 24,
   "id": "d2da4f45",
   "metadata": {
    "execution": {
     "iopub.execute_input": "2021-11-20T11:57:34.958030Z",
     "iopub.status.busy": "2021-11-20T11:57:34.957245Z",
     "iopub.status.idle": "2021-11-20T11:57:35.142757Z",
     "shell.execute_reply": "2021-11-20T11:57:35.143267Z",
     "shell.execute_reply.started": "2021-11-20T11:35:57.024171Z"
    },
    "papermill": {
     "duration": 0.234422,
     "end_time": "2021-11-20T11:57:35.143438",
     "exception": false,
     "start_time": "2021-11-20T11:57:34.909016",
     "status": "completed"
    },
    "tags": []
   },
   "outputs": [
    {
     "data": {
      "image/png": "[encoded data removed]",
      "text/plain": [
       "<Figure size 432x288 with 1 Axes>"
      ]
     },
     "metadata": {
      "needs_background": "light"
     },
     "output_type": "display_data"
    }
   ],
   "source": [
    "Auto.boxplot(column = \"horsepower\",showfliers=False)\n",
    "plt.show()"
   ]
  },
  {
   "cell_type": "markdown",
   "id": "5c34e9a0",
   "metadata": {
    "papermill": {
     "duration": 0.045435,
     "end_time": "2021-11-20T11:57:35.234812",
     "exception": false,
     "start_time": "2021-11-20T11:57:35.189377",
     "status": "completed"
    },
    "tags": []
   },
   "source": [
    "You can also create boxplots for grouped data. Here in the next plot you will see there is 3 boxplots for mpg variable for different origins. In other words, it illustrates the distributions of mpg variable by origin."
   ]
  },
  {
   "cell_type": "code",
   "execution_count": 25,
   "id": "b51d5e6d",
   "metadata": {
    "execution": {
     "iopub.execute_input": "2021-11-20T11:57:35.329721Z",
     "iopub.status.busy": "2021-11-20T11:57:35.329045Z",
     "iopub.status.idle": "2021-11-20T11:57:35.552600Z",
     "shell.execute_reply": "2021-11-20T11:57:35.553151Z",
     "shell.execute_reply.started": "2021-11-20T11:35:57.226301Z"
    },
    "papermill": {
     "duration": 0.272536,
     "end_time": "2021-11-20T11:57:35.553338",
     "exception": false,
     "start_time": "2021-11-20T11:57:35.280802",
     "status": "completed"
    },
    "tags": []
   },
   "outputs": [
    {
     "data": {
      "image/png": "[encoded data removed]",
      "text/plain": [
       "<Figure size 432x288 with 1 Axes>"
      ]
     },
     "metadata": {
      "needs_background": "light"
     },
     "output_type": "display_data"
    }
   ],
   "source": [
    "Auto.boxplot(column = \"mpg\", by = \"origin\")\n",
    "plt.show()"
   ]
  },
  {
   "cell_type": "markdown",
   "id": "b3645926",
   "metadata": {
    "papermill": {
     "duration": 0.047521,
     "end_time": "2021-11-20T11:57:35.647659",
     "exception": false,
     "start_time": "2021-11-20T11:57:35.600138",
     "status": "completed"
    },
    "tags": []
   },
   "source": [
    "## Bar Plot\n",
    "\n",
    "Bar plots are used to visualize the count or the percentage of certain variable. \n",
    "\n",
    "Let's now obtain a basic bar plot for origin variable.  "
   ]
  },
  {
   "cell_type": "code",
   "execution_count": 26,
   "id": "67c9c4f0",
   "metadata": {
    "execution": {
     "iopub.execute_input": "2021-11-20T11:57:35.748799Z",
     "iopub.status.busy": "2021-11-20T11:57:35.748015Z",
     "iopub.status.idle": "2021-11-20T11:57:35.918969Z",
     "shell.execute_reply": "2021-11-20T11:57:35.918373Z",
     "shell.execute_reply.started": "2021-11-20T11:40:59.053791Z"
    },
    "papermill": {
     "duration": 0.223205,
     "end_time": "2021-11-20T11:57:35.919128",
     "exception": false,
     "start_time": "2021-11-20T11:57:35.695923",
     "status": "completed"
    },
    "tags": []
   },
   "outputs": [
    {
     "data": {
      "image/png": "[encoded data removed]",
      "text/plain": [
       "<Figure size 432x288 with 1 Axes>"
      ]
     },
     "metadata": {
      "needs_background": "light"
     },
     "output_type": "display_data"
    }
   ],
   "source": [
    "plt.bar(pd.unique(Auto[\"origin\"]),\n",
    "        Auto[\"origin\"].value_counts(),\n",
    "        color = [\"Red\",\"Blue\",\"Green\"])\n",
    "plt.xlabel(\"Origin\")\n",
    "plt.ylabel(\"Counts\")\n",
    "plt.title(\"Number of cars from different origins\")\n",
    "plt.show()"
   ]
  }
 ],
 "metadata": {
  "kernelspec": {
   "display_name": "Python 3",
   "language": "python",
   "name": "python3"
  },
  "language_info": {
   "codemirror_mode": {
    "name": "ipython",
    "version": 3
   },
   "file_extension": ".py",
   "mimetype": "text/x-python",
   "name": "python",
   "nbconvert_exporter": "python",
   "pygments_lexer": "ipython3",
   "version": "3.7.10"
  },
  "papermill": {
   "default_parameters": {},
   "duration": 17.967386,
   "end_time": "2021-11-20T11:57:36.677001",
   "environment_variables": {},
   "exception": null,
   "input_path": "__notebook__.ipynb",
   "output_path": "__notebook__.ipynb",
   "parameters": {},
   "start_time": "2021-11-20T11:57:18.709615",
   "version": "2.3.3"
  }
 },
 "nbformat": 4,
 "nbformat_minor": 5
}
